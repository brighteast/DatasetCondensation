{
  "nbformat": 4,
  "nbformat_minor": 0,
  "metadata": {
    "colab": {
      "name": "Dataset Condensation.ipynb",
      "provenance": [],
      "collapsed_sections": []
    },
    "kernelspec": {
      "name": "python3",
      "display_name": "Python 3"
    },
    "language_info": {
      "name": "python"
    },
    "widgets": {
      "application/vnd.jupyter.widget-state+json": {
        "5ae239d6e39a488cb9d84266347764fc": {
          "model_module": "@jupyter-widgets/controls",
          "model_name": "HBoxModel",
          "model_module_version": "1.5.0",
          "state": {
            "_view_name": "HBoxView",
            "_dom_classes": [],
            "_model_name": "HBoxModel",
            "_view_module": "@jupyter-widgets/controls",
            "_model_module_version": "1.5.0",
            "_view_count": null,
            "_view_module_version": "1.5.0",
            "box_style": "",
            "layout": "IPY_MODEL_bcb32089930147e1ba6f54d19cef6505",
            "_model_module": "@jupyter-widgets/controls",
            "children": [
              "IPY_MODEL_5b6dcef49c754075b480dfdb0b6d2f3d",
              "IPY_MODEL_edd87a49dc8349b48731fda4fba0175d",
              "IPY_MODEL_2a6d7ba566304766888947b621bd7c45"
            ]
          }
        },
        "bcb32089930147e1ba6f54d19cef6505": {
          "model_module": "@jupyter-widgets/base",
          "model_name": "LayoutModel",
          "model_module_version": "1.2.0",
          "state": {
            "_view_name": "LayoutView",
            "grid_template_rows": null,
            "right": null,
            "justify_content": null,
            "_view_module": "@jupyter-widgets/base",
            "overflow": null,
            "_model_module_version": "1.2.0",
            "_view_count": null,
            "flex_flow": null,
            "width": null,
            "min_width": null,
            "border": null,
            "align_items": null,
            "bottom": null,
            "_model_module": "@jupyter-widgets/base",
            "top": null,
            "grid_column": null,
            "overflow_y": null,
            "overflow_x": null,
            "grid_auto_flow": null,
            "grid_area": null,
            "grid_template_columns": null,
            "flex": null,
            "_model_name": "LayoutModel",
            "justify_items": null,
            "grid_row": null,
            "max_height": null,
            "align_content": null,
            "visibility": null,
            "align_self": null,
            "height": null,
            "min_height": null,
            "padding": null,
            "grid_auto_rows": null,
            "grid_gap": null,
            "max_width": null,
            "order": null,
            "_view_module_version": "1.2.0",
            "grid_template_areas": null,
            "object_position": null,
            "object_fit": null,
            "grid_auto_columns": null,
            "margin": null,
            "display": null,
            "left": null
          }
        },
        "5b6dcef49c754075b480dfdb0b6d2f3d": {
          "model_module": "@jupyter-widgets/controls",
          "model_name": "HTMLModel",
          "model_module_version": "1.5.0",
          "state": {
            "_view_name": "HTMLView",
            "style": "IPY_MODEL_e14e9a29c2f04a56acaa5938901c6345",
            "_dom_classes": [],
            "description": "",
            "_model_name": "HTMLModel",
            "placeholder": "​",
            "_view_module": "@jupyter-widgets/controls",
            "_model_module_version": "1.5.0",
            "value": "100%",
            "_view_count": null,
            "_view_module_version": "1.5.0",
            "description_tooltip": null,
            "_model_module": "@jupyter-widgets/controls",
            "layout": "IPY_MODEL_e57c1535c6cd4148bd36b213547b34aa"
          }
        },
        "edd87a49dc8349b48731fda4fba0175d": {
          "model_module": "@jupyter-widgets/controls",
          "model_name": "FloatProgressModel",
          "model_module_version": "1.5.0",
          "state": {
            "_view_name": "ProgressView",
            "style": "IPY_MODEL_ba093e1c92604a9f8ce856839e9e1beb",
            "_dom_classes": [],
            "description": "",
            "_model_name": "FloatProgressModel",
            "bar_style": "success",
            "max": 60000,
            "_view_module": "@jupyter-widgets/controls",
            "_model_module_version": "1.5.0",
            "value": 60000,
            "_view_count": null,
            "_view_module_version": "1.5.0",
            "orientation": "horizontal",
            "min": 0,
            "description_tooltip": null,
            "_model_module": "@jupyter-widgets/controls",
            "layout": "IPY_MODEL_2d5089fc32bf4632918e5ad6548d8342"
          }
        },
        "2a6d7ba566304766888947b621bd7c45": {
          "model_module": "@jupyter-widgets/controls",
          "model_name": "HTMLModel",
          "model_module_version": "1.5.0",
          "state": {
            "_view_name": "HTMLView",
            "style": "IPY_MODEL_b817ad0f77cc4b9d8d8ca2fd1a4975c7",
            "_dom_classes": [],
            "description": "",
            "_model_name": "HTMLModel",
            "placeholder": "​",
            "_view_module": "@jupyter-widgets/controls",
            "_model_module_version": "1.5.0",
            "value": " 60000/60000 [00:29&lt;00:00, 813.96it/s]",
            "_view_count": null,
            "_view_module_version": "1.5.0",
            "description_tooltip": null,
            "_model_module": "@jupyter-widgets/controls",
            "layout": "IPY_MODEL_f71ae669c42448f3bdb827b880d2a29c"
          }
        },
        "e14e9a29c2f04a56acaa5938901c6345": {
          "model_module": "@jupyter-widgets/controls",
          "model_name": "DescriptionStyleModel",
          "model_module_version": "1.5.0",
          "state": {
            "_view_name": "StyleView",
            "_model_name": "DescriptionStyleModel",
            "description_width": "",
            "_view_module": "@jupyter-widgets/base",
            "_model_module_version": "1.5.0",
            "_view_count": null,
            "_view_module_version": "1.2.0",
            "_model_module": "@jupyter-widgets/controls"
          }
        },
        "e57c1535c6cd4148bd36b213547b34aa": {
          "model_module": "@jupyter-widgets/base",
          "model_name": "LayoutModel",
          "model_module_version": "1.2.0",
          "state": {
            "_view_name": "LayoutView",
            "grid_template_rows": null,
            "right": null,
            "justify_content": null,
            "_view_module": "@jupyter-widgets/base",
            "overflow": null,
            "_model_module_version": "1.2.0",
            "_view_count": null,
            "flex_flow": null,
            "width": null,
            "min_width": null,
            "border": null,
            "align_items": null,
            "bottom": null,
            "_model_module": "@jupyter-widgets/base",
            "top": null,
            "grid_column": null,
            "overflow_y": null,
            "overflow_x": null,
            "grid_auto_flow": null,
            "grid_area": null,
            "grid_template_columns": null,
            "flex": null,
            "_model_name": "LayoutModel",
            "justify_items": null,
            "grid_row": null,
            "max_height": null,
            "align_content": null,
            "visibility": null,
            "align_self": null,
            "height": null,
            "min_height": null,
            "padding": null,
            "grid_auto_rows": null,
            "grid_gap": null,
            "max_width": null,
            "order": null,
            "_view_module_version": "1.2.0",
            "grid_template_areas": null,
            "object_position": null,
            "object_fit": null,
            "grid_auto_columns": null,
            "margin": null,
            "display": null,
            "left": null
          }
        },
        "ba093e1c92604a9f8ce856839e9e1beb": {
          "model_module": "@jupyter-widgets/controls",
          "model_name": "ProgressStyleModel",
          "model_module_version": "1.5.0",
          "state": {
            "_view_name": "StyleView",
            "_model_name": "ProgressStyleModel",
            "description_width": "",
            "_view_module": "@jupyter-widgets/base",
            "_model_module_version": "1.5.0",
            "_view_count": null,
            "_view_module_version": "1.2.0",
            "bar_color": null,
            "_model_module": "@jupyter-widgets/controls"
          }
        },
        "2d5089fc32bf4632918e5ad6548d8342": {
          "model_module": "@jupyter-widgets/base",
          "model_name": "LayoutModel",
          "model_module_version": "1.2.0",
          "state": {
            "_view_name": "LayoutView",
            "grid_template_rows": null,
            "right": null,
            "justify_content": null,
            "_view_module": "@jupyter-widgets/base",
            "overflow": null,
            "_model_module_version": "1.2.0",
            "_view_count": null,
            "flex_flow": null,
            "width": null,
            "min_width": null,
            "border": null,
            "align_items": null,
            "bottom": null,
            "_model_module": "@jupyter-widgets/base",
            "top": null,
            "grid_column": null,
            "overflow_y": null,
            "overflow_x": null,
            "grid_auto_flow": null,
            "grid_area": null,
            "grid_template_columns": null,
            "flex": null,
            "_model_name": "LayoutModel",
            "justify_items": null,
            "grid_row": null,
            "max_height": null,
            "align_content": null,
            "visibility": null,
            "align_self": null,
            "height": null,
            "min_height": null,
            "padding": null,
            "grid_auto_rows": null,
            "grid_gap": null,
            "max_width": null,
            "order": null,
            "_view_module_version": "1.2.0",
            "grid_template_areas": null,
            "object_position": null,
            "object_fit": null,
            "grid_auto_columns": null,
            "margin": null,
            "display": null,
            "left": null
          }
        },
        "b817ad0f77cc4b9d8d8ca2fd1a4975c7": {
          "model_module": "@jupyter-widgets/controls",
          "model_name": "DescriptionStyleModel",
          "model_module_version": "1.5.0",
          "state": {
            "_view_name": "StyleView",
            "_model_name": "DescriptionStyleModel",
            "description_width": "",
            "_view_module": "@jupyter-widgets/base",
            "_model_module_version": "1.5.0",
            "_view_count": null,
            "_view_module_version": "1.2.0",
            "_model_module": "@jupyter-widgets/controls"
          }
        },
        "f71ae669c42448f3bdb827b880d2a29c": {
          "model_module": "@jupyter-widgets/base",
          "model_name": "LayoutModel",
          "model_module_version": "1.2.0",
          "state": {
            "_view_name": "LayoutView",
            "grid_template_rows": null,
            "right": null,
            "justify_content": null,
            "_view_module": "@jupyter-widgets/base",
            "overflow": null,
            "_model_module_version": "1.2.0",
            "_view_count": null,
            "flex_flow": null,
            "width": null,
            "min_width": null,
            "border": null,
            "align_items": null,
            "bottom": null,
            "_model_module": "@jupyter-widgets/base",
            "top": null,
            "grid_column": null,
            "overflow_y": null,
            "overflow_x": null,
            "grid_auto_flow": null,
            "grid_area": null,
            "grid_template_columns": null,
            "flex": null,
            "_model_name": "LayoutModel",
            "justify_items": null,
            "grid_row": null,
            "max_height": null,
            "align_content": null,
            "visibility": null,
            "align_self": null,
            "height": null,
            "min_height": null,
            "padding": null,
            "grid_auto_rows": null,
            "grid_gap": null,
            "max_width": null,
            "order": null,
            "_view_module_version": "1.2.0",
            "grid_template_areas": null,
            "object_position": null,
            "object_fit": null,
            "grid_auto_columns": null,
            "margin": null,
            "display": null,
            "left": null
          }
        },
        "55a24981f2e94d138729dae4e0d442cd": {
          "model_module": "@jupyter-widgets/controls",
          "model_name": "HBoxModel",
          "model_module_version": "1.5.0",
          "state": {
            "_view_name": "HBoxView",
            "_dom_classes": [],
            "_model_name": "HBoxModel",
            "_view_module": "@jupyter-widgets/controls",
            "_model_module_version": "1.5.0",
            "_view_count": null,
            "_view_module_version": "1.5.0",
            "box_style": "",
            "layout": "IPY_MODEL_d0d240ea162f42098fc46ea1504047c0",
            "_model_module": "@jupyter-widgets/controls",
            "children": [
              "IPY_MODEL_a6e867cf353843a3b77b3f086a3162c3",
              "IPY_MODEL_d1ae0307ba6e4313a3465edd604643d7",
              "IPY_MODEL_54bc1a81781a47e68d98291d5b9ebf35"
            ]
          }
        },
        "d0d240ea162f42098fc46ea1504047c0": {
          "model_module": "@jupyter-widgets/base",
          "model_name": "LayoutModel",
          "model_module_version": "1.2.0",
          "state": {
            "_view_name": "LayoutView",
            "grid_template_rows": null,
            "right": null,
            "justify_content": null,
            "_view_module": "@jupyter-widgets/base",
            "overflow": null,
            "_model_module_version": "1.2.0",
            "_view_count": null,
            "flex_flow": null,
            "width": null,
            "min_width": null,
            "border": null,
            "align_items": null,
            "bottom": null,
            "_model_module": "@jupyter-widgets/base",
            "top": null,
            "grid_column": null,
            "overflow_y": null,
            "overflow_x": null,
            "grid_auto_flow": null,
            "grid_area": null,
            "grid_template_columns": null,
            "flex": null,
            "_model_name": "LayoutModel",
            "justify_items": null,
            "grid_row": null,
            "max_height": null,
            "align_content": null,
            "visibility": null,
            "align_self": null,
            "height": null,
            "min_height": null,
            "padding": null,
            "grid_auto_rows": null,
            "grid_gap": null,
            "max_width": null,
            "order": null,
            "_view_module_version": "1.2.0",
            "grid_template_areas": null,
            "object_position": null,
            "object_fit": null,
            "grid_auto_columns": null,
            "margin": null,
            "display": null,
            "left": null
          }
        },
        "a6e867cf353843a3b77b3f086a3162c3": {
          "model_module": "@jupyter-widgets/controls",
          "model_name": "HTMLModel",
          "model_module_version": "1.5.0",
          "state": {
            "_view_name": "HTMLView",
            "style": "IPY_MODEL_97dbf7018f0f45a987485e4874520819",
            "_dom_classes": [],
            "description": "",
            "_model_name": "HTMLModel",
            "placeholder": "​",
            "_view_module": "@jupyter-widgets/controls",
            "_model_module_version": "1.5.0",
            "value": "100%",
            "_view_count": null,
            "_view_module_version": "1.5.0",
            "description_tooltip": null,
            "_model_module": "@jupyter-widgets/controls",
            "layout": "IPY_MODEL_45e72dc251984afa8b6f0b3e4bae3471"
          }
        },
        "d1ae0307ba6e4313a3465edd604643d7": {
          "model_module": "@jupyter-widgets/controls",
          "model_name": "FloatProgressModel",
          "model_module_version": "1.5.0",
          "state": {
            "_view_name": "ProgressView",
            "style": "IPY_MODEL_739f1d538e094bba8e8626e6c7f4f55f",
            "_dom_classes": [],
            "description": "",
            "_model_name": "FloatProgressModel",
            "bar_style": "success",
            "max": 1000,
            "_view_module": "@jupyter-widgets/controls",
            "_model_module_version": "1.5.0",
            "value": 1000,
            "_view_count": null,
            "_view_module_version": "1.5.0",
            "orientation": "horizontal",
            "min": 0,
            "description_tooltip": null,
            "_model_module": "@jupyter-widgets/controls",
            "layout": "IPY_MODEL_be4d91c7a77646c8b32db3c2aab673be"
          }
        },
        "54bc1a81781a47e68d98291d5b9ebf35": {
          "model_module": "@jupyter-widgets/controls",
          "model_name": "HTMLModel",
          "model_module_version": "1.5.0",
          "state": {
            "_view_name": "HTMLView",
            "style": "IPY_MODEL_adf55a8c5707428d9587ad2f8e23c86f",
            "_dom_classes": [],
            "description": "",
            "_model_name": "HTMLModel",
            "placeholder": "​",
            "_view_module": "@jupyter-widgets/controls",
            "_model_module_version": "1.5.0",
            "value": " 1000/1000 [04:57&lt;00:00,  3.33it/s]",
            "_view_count": null,
            "_view_module_version": "1.5.0",
            "description_tooltip": null,
            "_model_module": "@jupyter-widgets/controls",
            "layout": "IPY_MODEL_82dc909e06334e56a0e2aae92e108dbd"
          }
        },
        "97dbf7018f0f45a987485e4874520819": {
          "model_module": "@jupyter-widgets/controls",
          "model_name": "DescriptionStyleModel",
          "model_module_version": "1.5.0",
          "state": {
            "_view_name": "StyleView",
            "_model_name": "DescriptionStyleModel",
            "description_width": "",
            "_view_module": "@jupyter-widgets/base",
            "_model_module_version": "1.5.0",
            "_view_count": null,
            "_view_module_version": "1.2.0",
            "_model_module": "@jupyter-widgets/controls"
          }
        },
        "45e72dc251984afa8b6f0b3e4bae3471": {
          "model_module": "@jupyter-widgets/base",
          "model_name": "LayoutModel",
          "model_module_version": "1.2.0",
          "state": {
            "_view_name": "LayoutView",
            "grid_template_rows": null,
            "right": null,
            "justify_content": null,
            "_view_module": "@jupyter-widgets/base",
            "overflow": null,
            "_model_module_version": "1.2.0",
            "_view_count": null,
            "flex_flow": null,
            "width": null,
            "min_width": null,
            "border": null,
            "align_items": null,
            "bottom": null,
            "_model_module": "@jupyter-widgets/base",
            "top": null,
            "grid_column": null,
            "overflow_y": null,
            "overflow_x": null,
            "grid_auto_flow": null,
            "grid_area": null,
            "grid_template_columns": null,
            "flex": null,
            "_model_name": "LayoutModel",
            "justify_items": null,
            "grid_row": null,
            "max_height": null,
            "align_content": null,
            "visibility": null,
            "align_self": null,
            "height": null,
            "min_height": null,
            "padding": null,
            "grid_auto_rows": null,
            "grid_gap": null,
            "max_width": null,
            "order": null,
            "_view_module_version": "1.2.0",
            "grid_template_areas": null,
            "object_position": null,
            "object_fit": null,
            "grid_auto_columns": null,
            "margin": null,
            "display": null,
            "left": null
          }
        },
        "739f1d538e094bba8e8626e6c7f4f55f": {
          "model_module": "@jupyter-widgets/controls",
          "model_name": "ProgressStyleModel",
          "model_module_version": "1.5.0",
          "state": {
            "_view_name": "StyleView",
            "_model_name": "ProgressStyleModel",
            "description_width": "",
            "_view_module": "@jupyter-widgets/base",
            "_model_module_version": "1.5.0",
            "_view_count": null,
            "_view_module_version": "1.2.0",
            "bar_color": null,
            "_model_module": "@jupyter-widgets/controls"
          }
        },
        "be4d91c7a77646c8b32db3c2aab673be": {
          "model_module": "@jupyter-widgets/base",
          "model_name": "LayoutModel",
          "model_module_version": "1.2.0",
          "state": {
            "_view_name": "LayoutView",
            "grid_template_rows": null,
            "right": null,
            "justify_content": null,
            "_view_module": "@jupyter-widgets/base",
            "overflow": null,
            "_model_module_version": "1.2.0",
            "_view_count": null,
            "flex_flow": null,
            "width": null,
            "min_width": null,
            "border": null,
            "align_items": null,
            "bottom": null,
            "_model_module": "@jupyter-widgets/base",
            "top": null,
            "grid_column": null,
            "overflow_y": null,
            "overflow_x": null,
            "grid_auto_flow": null,
            "grid_area": null,
            "grid_template_columns": null,
            "flex": null,
            "_model_name": "LayoutModel",
            "justify_items": null,
            "grid_row": null,
            "max_height": null,
            "align_content": null,
            "visibility": null,
            "align_self": null,
            "height": null,
            "min_height": null,
            "padding": null,
            "grid_auto_rows": null,
            "grid_gap": null,
            "max_width": null,
            "order": null,
            "_view_module_version": "1.2.0",
            "grid_template_areas": null,
            "object_position": null,
            "object_fit": null,
            "grid_auto_columns": null,
            "margin": null,
            "display": null,
            "left": null
          }
        },
        "adf55a8c5707428d9587ad2f8e23c86f": {
          "model_module": "@jupyter-widgets/controls",
          "model_name": "DescriptionStyleModel",
          "model_module_version": "1.5.0",
          "state": {
            "_view_name": "StyleView",
            "_model_name": "DescriptionStyleModel",
            "description_width": "",
            "_view_module": "@jupyter-widgets/base",
            "_model_module_version": "1.5.0",
            "_view_count": null,
            "_view_module_version": "1.2.0",
            "_model_module": "@jupyter-widgets/controls"
          }
        },
        "82dc909e06334e56a0e2aae92e108dbd": {
          "model_module": "@jupyter-widgets/base",
          "model_name": "LayoutModel",
          "model_module_version": "1.2.0",
          "state": {
            "_view_name": "LayoutView",
            "grid_template_rows": null,
            "right": null,
            "justify_content": null,
            "_view_module": "@jupyter-widgets/base",
            "overflow": null,
            "_model_module_version": "1.2.0",
            "_view_count": null,
            "flex_flow": null,
            "width": null,
            "min_width": null,
            "border": null,
            "align_items": null,
            "bottom": null,
            "_model_module": "@jupyter-widgets/base",
            "top": null,
            "grid_column": null,
            "overflow_y": null,
            "overflow_x": null,
            "grid_auto_flow": null,
            "grid_area": null,
            "grid_template_columns": null,
            "flex": null,
            "_model_name": "LayoutModel",
            "justify_items": null,
            "grid_row": null,
            "max_height": null,
            "align_content": null,
            "visibility": null,
            "align_self": null,
            "height": null,
            "min_height": null,
            "padding": null,
            "grid_auto_rows": null,
            "grid_gap": null,
            "max_width": null,
            "order": null,
            "_view_module_version": "1.2.0",
            "grid_template_areas": null,
            "object_position": null,
            "object_fit": null,
            "grid_auto_columns": null,
            "margin": null,
            "display": null,
            "left": null
          }
        }
      }
    },
    "accelerator": "GPU"
  },
  "cells": [
    {
      "cell_type": "markdown",
      "source": [
        "#Dataset Condensation\n",
        "\n",
        "This notebook is my implementaion of <a href = \"https://arxiv.org/abs/2006.05929\">Dataset Condensation with Gradient Matching</a> \n",
        "\n",
        "The number of data to train deep learning model is getting bigger and bigger, for example the data used for benchmarking machine learning model before 2000 is toy dataset like MNIST and it continue to became bigger like cifar-10/cifar-100 and now one of the biggest dataset is Imagenet with a million of image and thousand of label. there is a imagenet version that is used for more than 20000 class classification with more than 14 million data. this number of data to train deep learning model just keep increasing. The ammount of memory to store this data is really big.\n",
        "\n",
        "As the number of data increase,the model is just getting bigger too,this make the training time of the model became longer,even when using a lot of computation.\n",
        "\n",
        "Dataset Distillation is a method to reduce the size of the dataset to train deep learning model with as little as possible performance drop from the original dataset.  \n",
        "\n",
        "In this notebook I will try to implement on of the algorithm to achieve this using (<a href = \"https://arxiv.org/abs/2006.05929\">Dataset Condensation with Gradient Matching</a> \n",
        ") and try to distill the image in the MNIST dataset.\n",
        "\n",
        "I will only implement the distiilation of MNIST dataset into 1 image per class ,but you can change the code to try other setting\n"
      ],
      "metadata": {
        "id": "xPE0PJAig8mG"
      }
    },
    {
      "cell_type": "markdown",
      "source": [
        "#1.Preparation\n",
        "first we need to import the dataset and all the library. We will use MNIST dataset in this notebook.MNIST dataset is a dataset of handwritten digit.more information about this dataset can be found in the webpage http://yann.lecun.com/exdb/mnist/.\n",
        "\n",
        "There is some preparation that must be done :\n",
        "*   Import libarary\n",
        "*   Load MNIST dataset\n",
        "*   Split dataset based on class\n",
        "*   Normalize the MNIST data(from [0,255] into [0,1])\n",
        "\n",
        "I reccomend on running on GPU to try this implementation,it take ~6 min to train on google colaboratory GPU\n",
        "\n",
        "\n"
      ],
      "metadata": {
        "id": "sNu-HL5BmmQC"
      }
    },
    {
      "cell_type": "code",
      "execution_count": 1,
      "metadata": {
        "id": "ORFiCSOgk8Xv"
      },
      "outputs": [],
      "source": [
        "import matplotlib.pyplot as plt                 #used for visualization\n",
        "import numpy as np                              #python library used for operating array and high level math function\n",
        "from tqdm.notebook import tqdm                  #progress bar\n",
        "import torch                                    #deep learning library\n",
        "import torch.nn as nn\n",
        "import torch.nn.functional as F\n",
        "import tensorflow.keras.datasets.mnist as MNIST #import MNIST dataset"
      ]
    },
    {
      "cell_type": "code",
      "source": [
        "(x_train,y_train),(x_test,y_test) = MNIST.load_data() # load MNIST dataset"
      ],
      "metadata": {
        "id": "zqYH_u9ulIbY",
        "colab": {
          "base_uri": "https://localhost:8080/"
        },
        "outputId": "5664e26f-e481-4f35-e240-b71bc787c04c"
      },
      "execution_count": 2,
      "outputs": [
        {
          "output_type": "stream",
          "name": "stdout",
          "text": [
            "Downloading data from https://storage.googleapis.com/tensorflow/tf-keras-datasets/mnist.npz\n",
            "11493376/11490434 [==============================] - 0s 0us/step\n",
            "11501568/11490434 [==============================] - 0s 0us/step\n"
          ]
        }
      ]
    },
    {
      "cell_type": "code",
      "source": [
        "#Divide the image based on class\n",
        "\n",
        "#initilize 10 empty list to store the data\n",
        "x_train_divide = []\n",
        "for i in range(10) :\n",
        "  x_train_divide.append([])\n",
        "\n",
        "#divide the data based on class\n",
        "for i in tqdm(range(len(x_train))) :\n",
        "  #if the length of the list is 0,initialize it with the datapoint\n",
        "  if len(x_train_divide[y_train[i]]) == 0 :\n",
        "     x_train_divide[y_train[i]] = x_train[i].reshape(1,28*28)\n",
        "  #else just concate the data to list\n",
        "  else :\n",
        "    x_train_divide[y_train[i]] = np.concatenate((x_train_divide[y_train[i]],x_train[i].reshape(1,28*28)),0)\n"
      ],
      "metadata": {
        "id": "wdGnngiL-Nz9",
        "colab": {
          "base_uri": "https://localhost:8080/",
          "height": 49,
          "referenced_widgets": [
            "5ae239d6e39a488cb9d84266347764fc",
            "bcb32089930147e1ba6f54d19cef6505",
            "5b6dcef49c754075b480dfdb0b6d2f3d",
            "edd87a49dc8349b48731fda4fba0175d",
            "2a6d7ba566304766888947b621bd7c45",
            "e14e9a29c2f04a56acaa5938901c6345",
            "e57c1535c6cd4148bd36b213547b34aa",
            "ba093e1c92604a9f8ce856839e9e1beb",
            "2d5089fc32bf4632918e5ad6548d8342",
            "b817ad0f77cc4b9d8d8ca2fd1a4975c7",
            "f71ae669c42448f3bdb827b880d2a29c"
          ]
        },
        "outputId": "df769996-f21c-42a7-a69c-5e2e58bf5356"
      },
      "execution_count": 3,
      "outputs": [
        {
          "output_type": "display_data",
          "data": {
            "application/vnd.jupyter.widget-view+json": {
              "model_id": "5ae239d6e39a488cb9d84266347764fc",
              "version_minor": 0,
              "version_major": 2
            },
            "text/plain": [
              "  0%|          | 0/60000 [00:00<?, ?it/s]"
            ]
          },
          "metadata": {}
        }
      ]
    },
    {
      "cell_type": "code",
      "source": [
        "#preprocess image to have range in 0 - 1\n",
        "for i in range(len(x_train_divide)) :\n",
        "  x_train_divide[i] = x_train_divide[i]/255.0"
      ],
      "metadata": {
        "id": "HTFcyPZDp2iK"
      },
      "execution_count": 4,
      "outputs": []
    },
    {
      "cell_type": "code",
      "source": [
        "#Checking device used\n",
        "device = \"cpu\"\n",
        "if torch.cuda.is_available() :\n",
        "  device = \"cuda\""
      ],
      "metadata": {
        "id": "QkOWM7hXF76f"
      },
      "execution_count": 5,
      "outputs": []
    },
    {
      "cell_type": "markdown",
      "source": [
        "#2.Model used\n",
        "for simplicity i will use a standard neural network and the convolutional neural netowork based on the original paper"
      ],
      "metadata": {
        "id": "yt6J7nHNqFme"
      }
    },
    {
      "cell_type": "code",
      "source": [
        "#Vanilla Neural Network with 3 layer and tanh activation function \n",
        "#based on original paper\n",
        "class Model1(nn.Module) :\n",
        "  def __init__(self) :\n",
        "    super(Model1,self).__init__()\n",
        "    self.linear1 = nn.Linear(28*28,128)\n",
        "    self.linear2 = nn.Linear(128,128)\n",
        "    self.linear3 = nn.Linear(128,10)\n",
        "\n",
        "  def forward(self,x) :\n",
        "    x = torch.as_tensor(x).float().to(device)\n",
        "    yhat = self.linear1(x)\n",
        "    yhat = torch.relu(yhat)\n",
        "\n",
        "    yhat = self.linear2(yhat)\n",
        "    yhat = torch.relu(yhat)\n",
        "\n",
        "    yhat = self.linear3(yhat)\n",
        "    yhat = torch.softmax(yhat,-1)\n",
        "\n",
        "    return yhat"
      ],
      "metadata": {
        "id": "1f2rbwwt4inX"
      },
      "execution_count": 6,
      "outputs": []
    },
    {
      "cell_type": "code",
      "source": [
        "#Convolutional Neural Network based on original paper\n",
        "class Model2(nn.Module) :\n",
        "  def __init__(self) :\n",
        "    super(Model2,self).__init__()\n",
        "    self.conv1 = nn.Conv2d(1,128,(3,3),1,1)\n",
        "    self.conv2 = nn.Conv2d(128,128,(3,3),1,1)\n",
        "    self.conv3 = nn.Conv2d(128,128,(3,3),1,1)\n",
        "    self.linear1 = nn.Linear(128*4*4,10)\n",
        "\n",
        "  def forward(self,x) :\n",
        "    x_hat = torch.as_tensor(x).float().to(device)\n",
        "    if len(x.shape) == 2 :\n",
        "      x_hat = x_hat.reshape(len(x_hat),1,28,28)\n",
        "    elif len(x.shape) == 3 :\n",
        "      x_hat = x_hat.reshape(x_hat.shape[0]*x_hat.shape[1],1,28,28)\n",
        "    \n",
        "    #Padd the image so the size is 32*32 with channel 1\n",
        "    x_hat = F.pad(x_hat,(2,2,2,2))\n",
        "\n",
        "    #Conv block 1 \n",
        "    yhat = self.conv1(x_hat)\n",
        "    yhat = F.instance_norm(yhat)\n",
        "    yhat = torch.relu(yhat)\n",
        "    yhat = F.avg_pool2d(yhat,(2,2))\n",
        "\n",
        "    #Conv block 2\n",
        "    yhat = self.conv2(yhat)\n",
        "    yhat = F.instance_norm(yhat)\n",
        "    yhat = torch.relu(yhat)\n",
        "    yhat = F.avg_pool2d(yhat,(2,2))\n",
        "\n",
        "    #Conv block 3 \n",
        "    yhat = self.conv3(yhat)\n",
        "    yhat = F.instance_norm(yhat)\n",
        "    yhat = torch.relu(yhat)\n",
        "    yhat = F.avg_pool2d(yhat,(2,2))\n",
        "\n",
        "    #Flatten  \n",
        "    yhat = yhat.reshape(yhat.shape[0],yhat.shape[1]*yhat.shape[2]*yhat.shape[3])\n",
        "    \n",
        "    if (len(x.shape) == 2) or (len(x.shape) == 4) :\n",
        "      yhat = yhat.reshape(yhat.shape[0],yhat.shape[1])\n",
        "    elif len(x.shape) == 3 :\n",
        "      yhat = yhat.reshape(x.shape[0],x.shape[1],yhat.shape[1])\n",
        "\n",
        "    #Linear and output layer\n",
        "    yhat = self.linear1(yhat)\n",
        "    yhat = torch.softmax(yhat,-1)\n",
        "\n",
        "    return yhat"
      ],
      "metadata": {
        "id": "BhDSR-APiRpK"
      },
      "execution_count": 7,
      "outputs": []
    },
    {
      "cell_type": "markdown",
      "source": [
        "#3.Baseline \n",
        "I will try to use the some simplest baseline to show the effect of the dataset condenstation,it is the random baseline when we sample a random 1 data from every class in the dataset and train the model only with that data and the other baseline is the average of the MNIST dataset per class"
      ],
      "metadata": {
        "id": "Lun3hq-6p9iH"
      }
    },
    {
      "cell_type": "code",
      "source": [
        "def modelAccuracy(model,x_test,y_test,partition = 1000) :\n",
        "  assert len(y_test) % partition == 0\n",
        "  total = 0\n",
        "  for i in range(len(y_test)//partition) :\n",
        "    tryTest = model.forward(x_test[partition*i:partition*(i + 1)].reshape(partition,28*28))\n",
        "    tryTest = tryTest.argmax(-1).cpu().detach().numpy()\n",
        "    total = total + np.sum(tryTest == y_test[partition*i:partition*(i + 1)])\n",
        "  accuracy = total/len(y_test)\n",
        "  return accuracy"
      ],
      "metadata": {
        "id": "Gn56Come2Ydv"
      },
      "execution_count": 8,
      "outputs": []
    },
    {
      "cell_type": "code",
      "source": [
        "baselineTyle = 'mean'\n",
        "baselineData = []\n",
        "for i in range(len(x_train_divide)) :\n",
        "  randInt = np.random.randint(0,len(x_train_divide[i]),1)\n",
        "  if i == 0 :\n",
        "    if baselineTyle == 'mean' :\n",
        "      baselineData = np.mean(x_train_divide[i],0,keepdims=True)\n",
        "    else :\n",
        "      baselineData = x_train_divide[i][randInt].reshape(1,28*28)\n",
        "  else :\n",
        "    if baselineTyle == 'mean' :\n",
        "      baselineData = np.concatenate((baselineData,np.mean(x_train_divide[i],0,keepdims=True)),0)\n",
        "    else :\n",
        "      baselineData = np.concatenate((baselineData,x_train_divide[i][randInt].reshape(1,28*28)),0)"
      ],
      "metadata": {
        "id": "tZNRaoN6EZHM"
      },
      "execution_count": 9,
      "outputs": []
    },
    {
      "cell_type": "code",
      "source": [
        "#Linear Baseline\n",
        "model = Model1()\n",
        "model = model.to(device)\n",
        "optim = torch.optim.SGD(model.parameters(),0.01)\n",
        "\n",
        "iteration = 1000\n",
        "for itr in range(iteration) :\n",
        "  \n",
        "  yhat = model.forward(baselineData)\n",
        "  loss = yhat[torch.arange(10),torch.arange(10)]\n",
        "  loss = -torch.mean(torch.log(loss))\n",
        "\n",
        "  optim.zero_grad()\n",
        "  loss.backward()\n",
        "  optim.step()"
      ],
      "metadata": {
        "id": "ShZdkPLtF-R5"
      },
      "execution_count": 10,
      "outputs": []
    },
    {
      "cell_type": "code",
      "source": [
        "print(\"Baseline Accuracy :\")\n",
        "print(modelAccuracy(model,x_test,y_test))"
      ],
      "metadata": {
        "colab": {
          "base_uri": "https://localhost:8080/"
        },
        "id": "-qn9sc3LLX2-",
        "outputId": "1aeb5fab-d1c8-41ea-c7cc-30bbce90d742"
      },
      "execution_count": 11,
      "outputs": [
        {
          "output_type": "stream",
          "name": "stdout",
          "text": [
            "Baseline Accuracy :\n",
            "0.7665\n"
          ]
        }
      ]
    },
    {
      "cell_type": "code",
      "source": [
        "#Convolutional Baseline \n",
        "\n",
        "model = Model2()\n",
        "model = model.to(device)\n",
        "optim = torch.optim.SGD(model.parameters(),0.01)\n",
        "\n",
        "iteration = 1000\n",
        "for itr in range(iteration) :\n",
        "  \n",
        "  yhat = model.forward(baselineData)\n",
        "  loss = yhat[torch.arange(10),torch.arange(10)]\n",
        "  loss = -torch.mean(torch.log(loss))\n",
        "\n",
        "  optim.zero_grad()\n",
        "  loss.backward()\n",
        "  optim.step()"
      ],
      "metadata": {
        "id": "FsaMoTllEJy5"
      },
      "execution_count": 12,
      "outputs": []
    },
    {
      "cell_type": "code",
      "source": [
        "print(\"Baseline Accuracy :\")\n",
        "print(modelAccuracy(model,x_test,y_test))\n",
        "#Surprisingly using comvolutional on baseline with 1 image(mean) \n",
        "#reduce the accuracy a bit."
      ],
      "metadata": {
        "colab": {
          "base_uri": "https://localhost:8080/"
        },
        "id": "zksZjpE2H4zy",
        "outputId": "48af83f1-49c2-4398-d228-2d09f66507fd"
      },
      "execution_count": 13,
      "outputs": [
        {
          "output_type": "stream",
          "name": "stdout",
          "text": [
            "Baseline Accuracy :\n",
            "0.6615\n"
          ]
        }
      ]
    },
    {
      "cell_type": "markdown",
      "source": [
        "#4.Algorithm\n",
        "The mathematic formulation of the algorithm is as follow \n",
        "\n",
        "$$\\displaystyle \\min_{S}E_{\\theta_0 \\sim P_{\\theta_0}}[∑_{t = 0}^{T - 1}D(\\nabla_\\theta L^{S}(\\theta_t),\\nabla_\\theta L^{\\Upsilon}(\\theta_t))]$$\n",
        "where : <br>\n",
        "*   $S$ is the syntethic data\n",
        "*   $Υ$ is the real data\n",
        "*   $\\theta$ is the model parameter\n",
        "*   $\\theta_0 \\sim P_{\\theta_0}$ mean that the parameter of the network is initializated from some random distribution\n",
        "*   $t$ is the time \n",
        "*   $\\theta_t$ is parameter at time t\n",
        "*   $L(\\theta)$ is a loss function,in this example we use cross entropy loss\n",
        "*   $\\nabla_{\\theta}L(\\theta)$ mean the gradient of $L$ with respect to $\\theta$\n",
        "\n",
        "This formula look really hard to implemet for me because we have a gradient in the loss function,but it turn out you can easily compute the loss easily with deep learning library,for example pytorch\n",
        "\n",
        "bellow is my implementation on this algorithm\n",
        "\n",
        "for reference in the <a href = \"https://arxiv.org/abs/2006.05929\">original paper</a> they provide a pseudocode,the pesudocode look like this \n",
        "\n",
        "\n",
        "![Capture.PNG](data:image/png;base64,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)\n",
        "\n",
        "\n",
        "\n",
        "\n",
        "\n"
      ],
      "metadata": {
        "id": "1ERMc-i2qbJq"
      }
    },
    {
      "cell_type": "code",
      "source": [
        "#the function to compute cosine similarity based on dataset condensation original paper\n",
        "def myCosineSim(array1,array2) :\n",
        "  assert array1.shape == array2.shape\n",
        "  if len(array1.shape) == 1 : #bias\n",
        "    return 0 #(1 - F.cosine_similarity(array1,array2,dim = 0)) \n",
        "  elif len(array1.shape) == 2 : #Linear\n",
        "    return torch.sum(1 - torch.sum(array1*array2,-1)/(torch.norm(array1,dim = -1)*torch.norm(array2,dim = -1) + 1e-6) )\n",
        "  elif len(array1.shape) == 3 : #Conv\n",
        "    array1 = array1.reshape(array1.shape[0],array1.shape[1]*array1.shape[2])\n",
        "    array2 = array2.reshape(array1.shape[0],array1.shape[1]*array1.shape[2])\n",
        "    return torch.sum(1 - torch.sum(array1*array2,-1)/(torch.norm(array1,dim = -1)*torch.norm(array2,dim = -1) + 1e-6) )\n",
        "  elif len(array1.shape) == 4 : #Conv \n",
        "    out_ch,in_ch,H,W = array1.shape\n",
        "    array1 = array1.reshape(out_ch,in_ch*H*W)\n",
        "    array2 = array2.reshape(out_ch,in_ch*H*W)\n",
        "    return torch.sum(1 - torch.sum(array1*array2,-1)/(torch.norm(array1,dim = -1)*torch.norm(array2,dim = -1) + 1e-6) )\n",
        "\n",
        "  return None"
      ],
      "metadata": {
        "id": "1fAhZmKuH9FX"
      },
      "execution_count": 14,
      "outputs": []
    },
    {
      "cell_type": "code",
      "source": [
        "#Synthesis data class that we are going to optimize\n",
        "class SynthesisData(nn.Module) :\n",
        "  def __init__(self,num,initParam = np.array(0)) :\n",
        "    super(SynthesisData,self).__init__()\n",
        "\n",
        "    if len(initParam.shape) > 0 : \n",
        "      initParam = torch.as_tensor(initParam).float()\n",
        "      self.synthesisData = nn.Parameter(initParam,requires_grad = True)\n",
        "    else :\n",
        "      self.synthesisData = nn.Parameter(torch.rand(10,num,784),requires_grad = True)"
      ],
      "metadata": {
        "id": "x-gGhNL-MSk_"
      },
      "execution_count": 15,
      "outputs": []
    },
    {
      "cell_type": "code",
      "source": [
        "K = 1000                              # number of datset training time \n",
        "C = len(x_train_divide)               # number of class\n",
        "T = 1                                 # number of step to train on same model\n",
        "zetaTheta = 0                         # number of iteration of optimizing model in every step\n",
        "lrS = 0.1                             # learning rate used to optimizing synthesis dataset\n",
        "lrTheta = 0.01                        # learning rate used to optimizing synthesis model \n",
        "miniBatchSizeInnerReal = 128          # number of minibatch to compute the gradient of real data\n",
        "miniBatchSizeInnerSysts = 1           # number of minibatch to compute the gradient of synthesis data"
      ],
      "metadata": {
        "id": "EWRW-NcoCe88"
      },
      "execution_count": 16,
      "outputs": []
    },
    {
      "cell_type": "code",
      "source": [
        "numSampleOfSynthesis = 1\n",
        "SYTS = SynthesisData(numSampleOfSynthesis)\n",
        "optimSyts = torch.optim.SGD(SYTS.parameters(),lrS)"
      ],
      "metadata": {
        "id": "30WOMDkDKxVW"
      },
      "execution_count": 17,
      "outputs": []
    },
    {
      "cell_type": "code",
      "source": [
        "K = 1000\n",
        "#Loop of training time K\n",
        "lossSyts = 0\n",
        "for k in tqdm(range(K)) :\n",
        "  #initialize the model,parameter and optimizer for the model\n",
        "  model = Model2()\n",
        "  model.to(device)\n",
        "  optim = torch.optim.SGD(model.parameters(),lrTheta)\n",
        "\n",
        "  #loop number of step to train the model and dataset\n",
        "  paramList = list(model.parameters())\n",
        "  for t in range(T) :\n",
        "    #loop for all class available\n",
        "    for c in range(C) :\n",
        "      #sample data with class c from real dataset \n",
        "      randIdxReal = np.random.randint(0,len(x_train_divide[c]),miniBatchSizeInnerReal)\n",
        "      xRealTrain = x_train_divide[c][randIdxReal]\n",
        "\n",
        "      #sample data with class c from synthesis dataset       \n",
        "      randIdxSyts = np.arange(len(SYTS.synthesisData[c]))\n",
        "      np.random.shuffle(randIdxSyts)\n",
        "      xSytsTrain = SYTS.synthesisData[c][randIdxSyts[0:miniBatchSizeInnerSysts]]\n",
        "      xSytsTrain = xSytsTrain.reshape(miniBatchSizeInnerSysts,784)\n",
        "\n",
        "      #Compute the loss and gradient of synthesis dataset\n",
        "      #create_graph = True make you can get the gradient of the gradient\n",
        "      #with respect to synthesis dataset.\n",
        "      lossSytsC = -torch.mean(torch.log(model.forward(xSytsTrain)[:,c]))\n",
        "      sytsGrad = torch.autograd.grad(lossSytsC,paramList,create_graph=True)\n",
        "\n",
        "      #Compute the loss and gradient of real dataset\n",
        "      #you can think the realGrad as label\n",
        "      lossRealC = -torch.mean(torch.log(model.forward(xRealTrain)[:,c]))\n",
        "      realGrad = torch.autograd.grad(lossRealC,paramList)\n",
        "      \n",
        "      #Compute the gradient matching loss for every parameter in the model\n",
        "      loss = 0\n",
        "      for i in range(len(realGrad)) :\n",
        "        tempSytsGradFlat = sytsGrad[i]\n",
        "        tempRealGradFlat = realGrad[i]\n",
        "        loss = loss  + myCosineSim(tempSytsGradFlat,tempRealGradFlat)  \n",
        "\n",
        "      #optimize the synthesis dataset\n",
        "      SYTS.zero_grad()\n",
        "      loss.backward()\n",
        "      optimSyts.step()\n",
        "    \n",
        "    #Optimize the model with synthesis data with cross entropy Loss\n",
        "    for itrZ in range(zetaTheta) :\n",
        "      optim.zero_grad()\n",
        "      xSytsTrain = model.forward(SYTS.synthesisData)[torch.arange(C),:,torch.arange(C)]\n",
        "      lossSyts = -torch.mean(torch.log(xSytsTrain)) # cross entropy loss\n",
        "      lossSyts.backward()\n",
        "      optim.step()\n",
        "\n",
        "  if k % 100 == 0 :  \n",
        "    print('itr:',k,';gradient matching loss :',loss)"
      ],
      "metadata": {
        "colab": {
          "base_uri": "https://localhost:8080/",
          "height": 223,
          "referenced_widgets": [
            "55a24981f2e94d138729dae4e0d442cd",
            "d0d240ea162f42098fc46ea1504047c0",
            "a6e867cf353843a3b77b3f086a3162c3",
            "d1ae0307ba6e4313a3465edd604643d7",
            "54bc1a81781a47e68d98291d5b9ebf35",
            "97dbf7018f0f45a987485e4874520819",
            "45e72dc251984afa8b6f0b3e4bae3471",
            "739f1d538e094bba8e8626e6c7f4f55f",
            "be4d91c7a77646c8b32db3c2aab673be",
            "adf55a8c5707428d9587ad2f8e23c86f",
            "82dc909e06334e56a0e2aae92e108dbd"
          ]
        },
        "id": "ig-H5IrjI2MH",
        "outputId": "f16eaa1d-120d-43e9-b86a-3eb50ec4b674"
      },
      "execution_count": 18,
      "outputs": [
        {
          "output_type": "display_data",
          "data": {
            "application/vnd.jupyter.widget-view+json": {
              "model_id": "55a24981f2e94d138729dae4e0d442cd",
              "version_minor": 0,
              "version_major": 2
            },
            "text/plain": [
              "  0%|          | 0/1000 [00:00<?, ?it/s]"
            ]
          },
          "metadata": {}
        },
        {
          "output_type": "stream",
          "name": "stdout",
          "text": [
            "itr: 0 ;gradient matching loss : tensor(351.6004, device='cuda:0', grad_fn=<AddBackward0>)\n",
            "itr: 100 ;gradient matching loss : tensor(78.1024, device='cuda:0', grad_fn=<AddBackward0>)\n",
            "itr: 200 ;gradient matching loss : tensor(80.2959, device='cuda:0', grad_fn=<AddBackward0>)\n",
            "itr: 300 ;gradient matching loss : tensor(69.7352, device='cuda:0', grad_fn=<AddBackward0>)\n",
            "itr: 400 ;gradient matching loss : tensor(77.3687, device='cuda:0', grad_fn=<AddBackward0>)\n",
            "itr: 500 ;gradient matching loss : tensor(76.9594, device='cuda:0', grad_fn=<AddBackward0>)\n",
            "itr: 600 ;gradient matching loss : tensor(52.2666, device='cuda:0', grad_fn=<AddBackward0>)\n",
            "itr: 700 ;gradient matching loss : tensor(59.6378, device='cuda:0', grad_fn=<AddBackward0>)\n",
            "itr: 800 ;gradient matching loss : tensor(87.3867, device='cuda:0', grad_fn=<AddBackward0>)\n",
            "itr: 900 ;gradient matching loss : tensor(65.3276, device='cuda:0', grad_fn=<AddBackward0>)\n"
          ]
        }
      ]
    },
    {
      "cell_type": "code",
      "source": [
        "#Evaluation\n",
        "model = Model2()\n",
        "model.to(device)\n",
        "optim = torch.optim.SGD(model.parameters(),0.01)"
      ],
      "metadata": {
        "id": "baN3ohmYN7EX"
      },
      "execution_count": 19,
      "outputs": []
    },
    {
      "cell_type": "code",
      "source": [
        "iteration = 1000\n",
        "for itr in range(iteration) :\n",
        "  yhat = model.forward(SYTS.synthesisData)\n",
        "  loss = yhat[torch.arange(C),:,torch.arange(C)]\n",
        "  loss = -torch.mean(torch.log(loss))\n",
        "\n",
        "  optim.zero_grad()\n",
        "  loss.backward()\n",
        "  optim.step()"
      ],
      "metadata": {
        "id": "oDMF8e3XN_d8"
      },
      "execution_count": 20,
      "outputs": []
    },
    {
      "cell_type": "code",
      "source": [
        "print(\"Synthesis Accuracy :\")\n",
        "print(modelAccuracy(model,x_test,y_test))"
      ],
      "metadata": {
        "colab": {
          "base_uri": "https://localhost:8080/"
        },
        "id": "vJcoQCccN_eu",
        "outputId": "66973d6a-5507-4d4e-aeef-bfa70ffaa57a"
      },
      "execution_count": 21,
      "outputs": [
        {
          "output_type": "stream",
          "name": "stdout",
          "text": [
            "Synthesis Accuracy :\n",
            "0.8716\n"
          ]
        }
      ]
    },
    {
      "cell_type": "markdown",
      "source": [
        "#5.Visualization\n",
        "Now that we know the accuracy produced by the algorithm is pretty high,we want to know what kind of picture is the synthesis picture looks like?\n",
        "\n",
        "in this section you can check it by yourself to what kind of picture the synthesis dataset turn into"
      ],
      "metadata": {
        "id": "f54wKzPIwIft"
      }
    },
    {
      "cell_type": "code",
      "source": [
        "classToVisualize = 2\n",
        "the_i_th_image = 0\n",
        "plt.imshow(SYTS.synthesisData[classToVisualize][the_i_th_image].reshape(28,28).detach().numpy(),cmap = 'gray')\n",
        "\n",
        "#It turn out the result is really interpretable,and the accuracy is far higher\n",
        "#than the baseline used for this experiment"
      ],
      "metadata": {
        "id": "--P-9MO4PtFc",
        "colab": {
          "base_uri": "https://localhost:8080/",
          "height": 282
        },
        "outputId": "403332d9-5a76-43f0-ad15-6bb5c4e81315"
      },
      "execution_count": 22,
      "outputs": [
        {
          "output_type": "execute_result",
          "data": {
            "text/plain": [
              "<matplotlib.image.AxesImage at 0x7f8b1903f490>"
            ]
          },
          "metadata": {},
          "execution_count": 22
        },
        {
          "output_type": "display_data",
          "data": {
            "image/png": "[encoded data removed]",
            "text/plain": [
              "<Figure size 432x288 with 1 Axes>"
            ]
          },
          "metadata": {
            "needs_background": "light"
          }
        }
      ]
    },
    {
      "cell_type": "markdown",
      "source": [
        "I think there the accuray I got here is different from the original paper due some of my mistake,because i write the code by myself and only look some part of the original implementation(architecture,hyperparameter,distance,etc) ,i think thre is some detail that i missed when creating this algorithm.\n",
        "\n",
        "\n",
        "The original work is under MIT license. the link to license of original work is here: <br>\n",
        "https://github.com/VICO-UoE/DatasetCondensation/blob/master/LICENSE"
      ],
      "metadata": {
        "id": "z5lB7t9sKpEE"
      }
    },
    {
      "cell_type": "markdown",
      "source": [
        "#6.Reference\n",
        "\n",
        "\n",
        "1.   <a href = \"https://arxiv.org/abs/2006.05929\">Dataset Condensation with Gradient Matching</a>\n",
        "1.   <a href = \"https://github.com/VICO-UoE/DatasetCondensation\">Dataset Condensation with Gradient Matching official Implementation on github </a>\n",
        "2.   <a href = \"https://arxiv.org/abs/2102.08259\">Dataset Condensation with Differentiable Siamese Augmentation\n",
        "</a>\n",
        "3.   <a href = \"https://arxiv.org/abs/1811.10959\">Dataset Distillation</a>"
      ],
      "metadata": {
        "id": "g5Ir-CW7wbT0"
      }
    }
  ]
}